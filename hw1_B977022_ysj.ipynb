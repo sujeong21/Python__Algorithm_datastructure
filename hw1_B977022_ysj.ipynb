{
  "nbformat": 4,
  "nbformat_minor": 0,
  "metadata": {
    "colab": {
      "name": "hw1_B977022_ysj.ipynb",
      "provenance": []
    },
    "kernelspec": {
      "name": "python3",
      "display_name": "Python 3"
    },
    "language_info": {
      "name": "python"
    }
  },
  "cells": [
    {
      "cell_type": "code",
      "execution_count": null,
      "metadata": {
        "id": "Z9dImvsYhIiC"
      },
      "outputs": [],
      "source": [
        "# 1번 문제\n",
        "\n",
        "# fibonacci 재귀\n",
        "\n",
        "def fibo(n):\n",
        "  if n == 0 or n == 1:\n",
        "    return n\n",
        "  else:\n",
        "    return fibo(n-1) + fibo(n-2)"
      ]
    },
    {
      "cell_type": "code",
      "source": [
        "for i in range (1,40):\n",
        "  print(i, \" : \",fibo(i))"
      ],
      "metadata": {
        "id": "HqImoF4hpDXf"
      },
      "execution_count": null,
      "outputs": []
    },
    {
      "cell_type": "code",
      "source": [
        "# fibonacci 반복문\n",
        "fibo = [1,2]\n",
        "\n",
        "for i in range(2,40):\n",
        "  a = fibo[i-1] + fibo[i-2]\n",
        "  fibo.append(a)\n",
        "\n",
        "fibo"
      ],
      "metadata": {
        "id": "tUnFYajhGxoz"
      },
      "execution_count": null,
      "outputs": []
    },
    {
      "cell_type": "markdown",
      "source": [
        "1번\n",
        "\n",
        "fibonacci \n",
        "재귀적 방법을 사용하면 fibo(n)을 계산하려 할때마다 fibo(n-), fibo(n-2)의 함수를 호출하여 계산을 하기 때문에 반복적 방법을 사용하는 것에 비해 시간이 더 많이 걸린다."
      ],
      "metadata": {
        "id": "WKXg9GOBD3ZS"
      }
    },
    {
      "cell_type": "code",
      "source": [
        "# 2번 문제\n",
        "#n=10\n",
        "global cnt\n",
        "cnt=0\n",
        "\n",
        "def move(n,a,b,c):\n",
        "  global cnt\n",
        "  if(n>0):\n",
        "    cnt+=1\n",
        "    move(n-1,a,c,b)\n",
        "    print(a,\"->\",b)\n",
        "    move(n-1,c,b,a)\n",
        "\n",
        "\n",
        "move(10,3,2,1)\n",
        "print(cnt)"
      ],
      "metadata": {
        "id": "fz2eDdXea32L"
      },
      "execution_count": null,
      "outputs": []
    },
    {
      "cell_type": "markdown",
      "source": [
        "2번\n",
        "\n",
        "n=10 일때 원반을 이동하기 위한 총 횟수는 2^10-1 이므로 1023번 이다."
      ],
      "metadata": {
        "id": "o4TDz0e0WLOu"
      }
    },
    {
      "cell_type": "code",
      "source": [
        "# fibonacci 반복문(참고o cha-suyeon.log 사이트 참조 // 파이썬 swap 방법 참조 => 함수대신 list에 저장하여 출력으로 변경 )\n",
        "\n",
        "a = 1\n",
        "b = 1\n",
        "fibo= list()\n",
        "\n",
        "for i in range(1,40):\n",
        "    a, b = b, b+a\n",
        "    fibo.append(a)\n",
        "fibo"
      ],
      "metadata": {
        "id": "z3GLyZzxCpTI"
      },
      "execution_count": null,
      "outputs": []
    }
  ]
}