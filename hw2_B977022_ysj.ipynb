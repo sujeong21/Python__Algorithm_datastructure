{
  "nbformat": 4,
  "nbformat_minor": 0,
  "metadata": {
    "colab": {
      "name": "hw2_B977022_ysj.ipynb",
      "provenance": []
    },
    "kernelspec": {
      "name": "python3",
      "display_name": "Python 3"
    },
    "language_info": {
      "name": "python"
    }
  },
  "cells": [
    {
      "cell_type": "code",
      "source": [
        "# 1.\n",
        "class ListNode:\n",
        "\tdef __init__(self, newItem, nextNode:'ListNode'):\n",
        "\t\tself.item = newItem\n",
        "\t\tself.next = nextNode\n",
        "\n",
        "class LinkedListBasic:\n",
        "  def __init__(self):\n",
        "    self.__head = ListNode('dummy', None)\n",
        "    self.__numItems = 0\n",
        "    \n",
        "  def insert(self, i:int, newItem):\n",
        "    if i >= 0 and i <= self.__numItems:\n",
        "      prev = self.__getNode(i - 1)\n",
        "      newNode = ListNode(newItem, prev.next)\n",
        "      prev.next = newNode\n",
        "      self.__numItems += 1\n",
        "    else:\n",
        "       print(\"index\", i, \": out of bound in insert()\")\n",
        "   \n",
        "  def append(self, newItem):\n",
        "    prev = self.__getNode(self.__numItems - 1)\n",
        "    newNode = ListNode(newItem, prev.next)\n",
        "    prev.next = newNode\n",
        "    self.__numItems += 1\n",
        "\n",
        "  def pop(self, i:int, k:int):\n",
        "    if self.isEmpty():\n",
        "      return\n",
        " \n",
        "    if i>=0 and i<= self.__numItems-1:\n",
        "      if(i+k <= self.__numItems -1): # i + k가 리스트 크기보다 작을때\n",
        "        prev = self.__getNode(i-1)\n",
        "        curr = self.__getNode(i+k-1)\n",
        "        prev.next = curr.next\n",
        "        retItem = curr.item\n",
        "        self.__numItems -= k\n",
        "      else: # i + k가 리스트 크기보다 클때 => i 뒤로는 다 지우기\n",
        "        prev = self.__getNode(i-1)\n",
        "        prev.next = None\n",
        "        self.__numItems = i\n",
        "    else:\n",
        "      print(\"index\", i, \": out of bound in pop()\")\n",
        "\n",
        "  def printList(self):\n",
        "    curr = self.__head.next\n",
        "    while curr != None:\n",
        "      print(curr.item, end = ' ')\n",
        "      curr = curr.next\n",
        "    print()\n",
        "\t\n",
        "  def __getNode(self, i:int) -> ListNode:\n",
        "    curr = self.__head\n",
        "    for index in range(i+1):\n",
        "      curr = curr.next\n",
        "    return curr\n",
        "\n",
        "  def isEmpty(self) -> bool:\n",
        "    return self.__numItems == 0\n",
        "  \n",
        "  def size(self) -> int:\n",
        "    print(\"크기: \", self.__numItems)"
      ],
      "metadata": {
        "id": "5NBhhXmT1SQA"
      },
      "execution_count": 70,
      "outputs": []
    },
    {
      "cell_type": "code",
      "source": [
        "link = LinkedListBasic()\n",
        "link.append(1)\n",
        "link.append(2)\n",
        "link.append('test')\n",
        "link.append(3)\n",
        "link.append(4)\n",
        "link.append(5)\n",
        "link.append('algorithm')\n",
        "link.printList()\n",
        "link.size()\n",
        "\n",
        "link.pop(1,3)\n",
        "link.printList()\n",
        "link.size()\n",
        "\n",
        "link.insert(1,2)\n",
        "link.insert(2,'test')\n",
        "link.insert(3,3)\n",
        "link.printList()\n",
        "link.size()\n",
        "\n",
        "link.pop(2,8)\n",
        "link.printList()\n",
        "link.size()"
      ],
      "metadata": {
        "id": "hu-kNwou2o5_",
        "colab": {
          "base_uri": "https://localhost:8080/"
        },
        "outputId": "d930c9c2-13a5-4b69-df8a-8b53bc9a0d12"
      },
      "execution_count": 71,
      "outputs": [
        {
          "output_type": "stream",
          "name": "stdout",
          "text": [
            "1 2 test 3 4 5 algorithm \n",
            "크기:  7\n",
            "1 4 5 algorithm \n",
            "크기:  4\n",
            "1 2 test 3 4 5 algorithm \n",
            "크기:  7\n",
            "1 2 \n",
            "크기:  2\n"
          ]
        }
      ]
    },
    {
      "cell_type": "code",
      "source": [
        "# 2.\n",
        "\n",
        "class BidirectNode:\n",
        "\tdef __init__(self, x, prevNode:'BidirectNode', nextNode:'BidirectNode'):\n",
        "\t\tself.item = x\n",
        "\t\tself.prev = prevNode\n",
        "\t\tself.next = nextNode\n",
        "\n",
        "class CircularDoublyLinkedList:\n",
        "\tdef __init__(self):\n",
        "\t\tself.__head = BidirectNode(\"dummy\", None, None)\n",
        "\t\tself.__head.prev = self.__head\n",
        "\t\tself.__head.next = self.__head\n",
        "\t\tself.__numItems = 0\n",
        "\t\n",
        "\tdef add(self, x) -> None:\n",
        "\t\tprev = self.__head\n",
        "\t\twhile  self.__numItems != 0 and prev.next != self.__head and int(prev.next.item) < int(x):\n",
        "\t\t prev = prev.next\n",
        "\n",
        "\t\tcurr = prev.next\n",
        "\t\tnewNode = BidirectNode(x, prev, curr)\n",
        "\t\tprev.next = newNode\n",
        "\t\tcurr.prev = newNode\n",
        "\t\tself.__numItems += 1\n",
        "\n",
        "\tdef printList(self):\n",
        "\t\tcurr = self.__head.next\n",
        "\t\twhile curr != self.__head:\n",
        "\t\t\tprint(curr.item, end = ' ')\n",
        "\t\t\tcurr = curr.next\n",
        "\t\tprint()"
      ],
      "metadata": {
        "id": "9_ZivABqzzO1"
      },
      "execution_count": 72,
      "outputs": []
    },
    {
      "cell_type": "code",
      "source": [
        "c = CircularDoublyLinkedList()\n",
        "c.add(10)\n",
        "c.add(2)\n",
        "c.add(5)\n",
        "c.add(15)\n",
        "c.printList() # 1이 가장 앞에 들어가는지 확인용\n",
        "c.add(30)\n",
        "c.add(1)\n",
        "c.add(100)\n",
        "c.printList()"
      ],
      "metadata": {
        "colab": {
          "base_uri": "https://localhost:8080/"
        },
        "id": "tj3qt1YmD1ZS",
        "outputId": "812997f0-6031-447c-856a-e1692b92d2a3"
      },
      "execution_count": 73,
      "outputs": [
        {
          "output_type": "stream",
          "name": "stdout",
          "text": [
            "2 5 10 15 \n",
            "1 2 5 10 15 30 100 \n"
          ]
        }
      ]
    },
    {
      "cell_type": "code",
      "source": [
        "link = CircularDoublyLinkedList()\n",
        "link.add(10)\n",
        "link.add(2)\n",
        "link.add(5)\n",
        "link.add(15)\n",
        "link.add(30)\n",
        "link.add(1)\n",
        "link.add(100)\n",
        "link.printList()"
      ],
      "metadata": {
        "id": "C9IRHV7znC1f"
      },
      "execution_count": null,
      "outputs": []
    },
    {
      "cell_type": "code",
      "source": [
        "# 3.\n",
        "s = input(\"문자열 입력 : \")\n",
        "\n",
        "def parenBalnce(s:str) -> bool:\n",
        "  stack = []\n",
        "  for i in range(0,len(s)):\n",
        "    if s[i] == '(':\n",
        "      stack.append(s[i])\n",
        "    elif s[i] == ')':\n",
        "      if len(stack) == 0:\n",
        "        return False\n",
        "      else :\n",
        "        stack.pop()\n",
        "        continue\n",
        "    else:\n",
        "      continue\n",
        "\n",
        "  if len(stack) == 0:\n",
        "    return True\n",
        "  else :\n",
        "    return False\n",
        "\n",
        "if parenBalnce(s):\n",
        "  print(\"true\")\n",
        "else:\n",
        "  print(\"false\")"
      ],
      "metadata": {
        "id": "PSN2uiDz0kVf",
        "colab": {
          "base_uri": "https://localhost:8080/"
        },
        "outputId": "fa0080e0-113c-4b96-9b52-d9a1d62c1c5c"
      },
      "execution_count": null,
      "outputs": [
        {
          "output_type": "stream",
          "name": "stdout",
          "text": [
            "문자열 입력 : (()))\n",
            "false\n"
          ]
        }
      ]
    },
    {
      "cell_type": "code",
      "source": [
        "# 4.\n",
        "\n",
        "class Deque:\n",
        "  def __init__(self):\n",
        "    self.__queue = []\n",
        "\n",
        "  def enqueueFront(self, x):\n",
        "    self.__queue.insert(0, x) \n",
        "  \n",
        "  def enqueueRear(self, x):\n",
        "    self.__queue.append(x)\n",
        "  \n",
        "  def dequeueFront(self):\n",
        "    if self.isEmpty():\n",
        "      print(\"큐가 비어있습니다.\")\n",
        "    else:\n",
        "      return self.__queue.pop(0)\n",
        "  \n",
        "  def dequeueRear(self):\n",
        "    if self.isEmpty():\n",
        "      print(\"큐가 비어있습니다.\")\n",
        "    else:\n",
        "      return self.__queue.pop()\n",
        "  \n",
        "  def front(self):\n",
        "    if self.isEmpty():\n",
        "      return None\n",
        "    else:\n",
        "      return self.__queue[0]\n",
        "\n",
        "  def isEmpty(self) -> bool:\n",
        "    return (len(self.__queue) == 0);\n",
        "  \n",
        "  def dequeueAll(self):\n",
        "    self.__queue.clear()\n",
        "\n",
        "  def printQueue(self):\n",
        "    print(\"Queue from front:\", end = ' ')\n",
        "    for i in range(len(self.__queue)):\n",
        "      print(self.__queue[i], end = ' ')\n",
        "    print()\n"
      ],
      "metadata": {
        "id": "vE1qdy7jKFch"
      },
      "execution_count": 74,
      "outputs": []
    },
    {
      "cell_type": "code",
      "source": [
        "que = Deque()\n",
        "que.enqueueRear(2)\n",
        "que.enqueueRear(3)\n",
        "que.enqueueRear(4)\n",
        "que.printQueue() # 2 3 4\n",
        "que.enqueueFront(0)\n",
        "que.enqueueFront(8)\n",
        "que.printQueue() # 8 0 2 3 4\n",
        "que.dequeueRear()\n",
        "que.printQueue() # 8 0 2 3\n",
        "que.dequeueFront()\n",
        "que.printQueue() # 0 2 3\n",
        "que.enqueueFront(1)\n",
        "que.printQueue() # 1 0 2 3"
      ],
      "metadata": {
        "id": "O9phHDdyl3wn",
        "colab": {
          "base_uri": "https://localhost:8080/"
        },
        "outputId": "d1469830-6757-4d9c-c124-fb5717d7c36d"
      },
      "execution_count": 75,
      "outputs": [
        {
          "output_type": "stream",
          "name": "stdout",
          "text": [
            "Queue from front: 2 3 4 \n",
            "Queue from front: 8 0 2 3 4 \n",
            "Queue from front: 8 0 2 3 \n",
            "Queue from front: 0 2 3 \n",
            "Queue from front: 1 0 2 3 \n"
          ]
        }
      ]
    }
  ]
}